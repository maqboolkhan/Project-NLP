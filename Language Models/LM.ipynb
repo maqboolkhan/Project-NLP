{
  "cells": [
    {
      "cell_type": "markdown",
      "id": "567156ca-c204-40fd-b444-5324e9ac0570",
      "metadata": {
        "id": "567156ca-c204-40fd-b444-5324e9ac0570"
      },
      "source": [
        "# Language Models\n",
        "\n",
        "One of the important and almost the backbone of different NLP related tasks! \n",
        "Let's assume we want to calculate the probability of a sentence  $P(S) = P(W_1 , … , W_m)$ or if we want to predict the next word given the probabilities of previous words $P(W_n|W_1 , … , W_m)$ then Language Model is the task which does it. Now, while calculating probability of next word given previous words usually we have to look back so far (in ideal situation, all the previous words). Thankfully, we use `Markov assumption` and only consider few words from the past. \n",
        "So, in this notebook we will first develop statistical and then Deep Learning approaches.\n",
        "\n",
        "Let's starts statistical methods. I mentioned about consideration of previous words, this is where the concept of `n-grams` kicks in. N in `n-grams` specifies number of words we want to look back for the prediction of next words! So how does this `n-grams` works?\n",
        "Suppose we want to generate a sentence from one single word `The`! then first step would be to find the most probable word after the word `The` and to find this most probable word we have to calculate probalities of all the words from the corpus given the word `The`. Trust me, it's not difficult as it sounds! \n",
        "Let's consider an example. Suppose we want to calculate the probability of word `company` occuring after the given word `The` $P(Company|The)$. So, we just need to calculate how many times `The company` occured in our corpus and then just normalized this count with number of times word `The` occured in our courpus. Hence, complete forumlar would be\n",
        "\n",
        "$$P(Company|The) = \\frac{count(The, Company)}{count(The)}$$\n",
        "\n",
        "We will use same formula for all the words in our corpus and our next predicted word would be simply the word with highest probability. Hence, the more general form of above given formula can be written as \n",
        "\n",
        "$$P(W_i|W_{i-1}) = \\frac{count(W_{i-1}, W_i)}{count(W_{i-1})}$$\n",
        "\n",
        "When we consider single word from the past to predict next word is known as `bi-grams` approach for language modelling as we are considering two `(bi)` words. One thing to remember is that the more words we consider from the past the more better results we will get (you will see yourself in this notebook). So if you want to consider three words from the past we call them `tri-grams`. For `tri-grams` our forumula would simply include one more word.\n",
        "\n",
        "$$P(c|a,b) = \\frac{count(a, b, c)}{count(a,b)}$$\n",
        "\n",
        "But there is one problem, if you want to use more previous words from the past which is `Sparsity` !. For example, from last formula what if we simply cant count $count(a, b, c)$ or $count(a, b)$ because these words never occured together! Then we have two solutions:\n",
        "\n",
        "1. Smoothing \n",
        "2. Backoff (if tri-gram is not avialable then use bi-gram if not then uni-gram)\n",
        "\n",
        "I would simply ignore these problems in this notebook 😬. However, at the end of this notebook I have provided helpful resources to study more about them. <br/>\n",
        "Another thing is, for every Artificial Intelligence problem or task we must evaluate our models on seperate validation and test sets. In fact, the best language model is one that best predicts an unseen test set. Here I am completely ignoring this as this notebook is more about understanding and implementation of LMs. Although, if you are going to use LMs in real scenarios you must use validation set.\n",
        "\n",
        "### Statistical method\n",
        "\n",
        "Enough talk let's start coding. We will use `nltk` as it simplfies creation of `bi-grams` and `tri-grams`."
      ]
    },
    {
      "cell_type": "code",
      "execution_count": 1,
      "id": "878eaccc-0046-4566-b4a7-548ef75bf74b",
      "metadata": {
        "id": "878eaccc-0046-4566-b4a7-548ef75bf74b"
      },
      "outputs": [],
      "source": [
        "import random\n",
        "import math\n",
        "from collections import Counter, defaultdict\n",
        "\n",
        "import nltk\n",
        "from nltk.corpus import reuters\n",
        "from nltk import bigrams, trigrams"
      ]
    },
    {
      "cell_type": "code",
      "execution_count": 2,
      "id": "1ba8f499-decb-47b4-84c2-c8096784a3d5",
      "metadata": {
        "colab": {
          "base_uri": "https://localhost:8080/"
        },
        "id": "1ba8f499-decb-47b4-84c2-c8096784a3d5",
        "outputId": "1d817475-1ce5-4546-a7e1-be3a17dcc517"
      },
      "outputs": [
        {
          "output_type": "stream",
          "name": "stdout",
          "text": [
            "[nltk_data] Downloading package punkt to /root/nltk_data...\n",
            "[nltk_data]   Unzipping tokenizers/punkt.zip.\n",
            "[nltk_data] Downloading package reuters to /root/nltk_data...\n"
          ]
        },
        {
          "output_type": "execute_result",
          "data": {
            "text/plain": [
              "True"
            ]
          },
          "metadata": {},
          "execution_count": 2
        }
      ],
      "source": [
        "nltk.download('punkt')\n",
        "nltk.download('reuters')"
      ]
    },
    {
      "cell_type": "code",
      "execution_count": 3,
      "id": "bXA6a3cfT-OS",
      "metadata": {
        "id": "bXA6a3cfT-OS"
      },
      "outputs": [],
      "source": [
        "# Only necessary if you are using Google Collab\n",
        "# see: https://stackoverflow.com/a/69588910/4108070\n",
        "from zipfile import ZipFile\n",
        "file_loc = '/root/nltk_data/corpora/reuters.zip'\n",
        "with ZipFile(file_loc, 'r') as z:\n",
        "  z.extractall('/root/nltk_data/corpora/')"
      ]
    },
    {
      "cell_type": "markdown",
      "id": "ae735ba2-a863-4b52-af6f-41509e96b80f",
      "metadata": {
        "id": "ae735ba2-a863-4b52-af6f-41509e96b80f"
      },
      "source": [
        "However, before coding `bi-grams` there is another appproach known as `uni-gram`. In `uni-gram` we don't consider any previous word. Hence, we only count occurance of each word and then simply normalized (divide) this count with total no. of words in the corpus. This approach also known as `bag-of-words`. "
      ]
    },
    {
      "cell_type": "code",
      "execution_count": 4,
      "id": "13f198b0-0825-4d14-a389-caea81d5ada1",
      "metadata": {
        "id": "13f198b0-0825-4d14-a389-caea81d5ada1"
      },
      "outputs": [],
      "source": [
        "uni_grams = Counter(reuters.words())  # Counting occurance of each word in our corpus\n",
        "total_count = len(reuters.words())\n",
        "\n",
        "# Compute the probabilities (uni-grams)\n",
        "for word in uni_grams:\n",
        "    uni_grams[word] /= float(total_count)"
      ]
    },
    {
      "cell_type": "markdown",
      "id": "26b4b429-674c-4661-adf2-74828fd4a406",
      "metadata": {
        "id": "26b4b429-674c-4661-adf2-74828fd4a406"
      },
      "source": [
        "Now, as we have calculated `uni-grams`. Let's just check most occured tokens in our corpus."
      ]
    },
    {
      "cell_type": "code",
      "execution_count": 5,
      "id": "125f31ba-f033-409f-b112-81b5660042d2",
      "metadata": {
        "colab": {
          "base_uri": "https://localhost:8080/"
        },
        "id": "125f31ba-f033-409f-b112-81b5660042d2",
        "outputId": "8d014973-617b-4627-f52b-532feb4ad32d"
      },
      "outputs": [
        {
          "output_type": "execute_result",
          "data": {
            "text/plain": [
              "[('.', 0.055021758950689205),\n",
              " (',', 0.042047741270415905),\n",
              " ('the', 0.033849129031826936),\n",
              " ('of', 0.02090707135390124),\n",
              " ('to', 0.01977743054365126),\n",
              " ('in', 0.015386126221089999),\n",
              " ('said', 0.014657438167564549),\n",
              " ('and', 0.014552260705293332),\n",
              " ('a', 0.013650988639090802),\n",
              " ('mln', 0.010481137497159917)]"
            ]
          },
          "metadata": {},
          "execution_count": 5
        }
      ],
      "source": [
        "uni_grams_counter = Counter(uni_grams)\n",
        "uni_grams_counter.most_common(10)"
      ]
    },
    {
      "cell_type": "markdown",
      "id": "-tCeeY4SnhGm",
      "metadata": {
        "id": "-tCeeY4SnhGm"
      },
      "source": [
        " ⚠️ Notice we are not removing stopwords."
      ]
    },
    {
      "cell_type": "markdown",
      "id": "26189f00-5d73-4932-b3c4-2f1c257275cb",
      "metadata": {
        "id": "26189f00-5d73-4932-b3c4-2f1c257275cb"
      },
      "source": [
        "Now, here comes most excited part!! lets generate language. `Uni-grams` do not consider any previous word so now it's completely upto us how we pick next word. Here, what I did is to first get random number (float) and then iterate over all the words and sum their probabilities and as soon as this sum is greater than that random number we pick the word."
      ]
    },
    {
      "cell_type": "code",
      "execution_count": 6,
      "id": "bdaaae21-afdc-4ef3-bcfc-0ab95347eb53",
      "metadata": {
        "id": "bdaaae21-afdc-4ef3-bcfc-0ab95347eb53"
      },
      "outputs": [],
      "source": [
        "def generate_text(grams, n, context, length):\n",
        "    text = list(context)\n",
        "    context = context[0] if n == 2 else context  # bigrams had , in tne context tuple hence to remedy that comma!\n",
        "\n",
        "    for i in range(length):\n",
        "        sum = 0\n",
        "\n",
        "        r = random.random()  # For diversity in text generation\n",
        "\n",
        "        if context:\n",
        "            candidates = grams[context]\n",
        "        else:\n",
        "            candidates = grams\n",
        "\n",
        "        for k in candidates.keys():\n",
        "            sum += candidates[k]\n",
        "            if sum > r:\n",
        "                text.append(k)\n",
        "\n",
        "                if context:\n",
        "                    context = (k) if n == 2 else (context[2-n], k)\n",
        "\n",
        "                break\n",
        "    text = ['None' if token is None else token for token in text]  # Replacing None with 'None'\n",
        "    return ' '.join(text)"
      ]
    },
    {
      "cell_type": "markdown",
      "id": "01d84b09-420c-4489-961a-747b1126ce33",
      "metadata": {
        "id": "01d84b09-420c-4489-961a-747b1126ce33"
      },
      "source": [
        "Now, lets generate some text using our `uni-grams` model"
      ]
    },
    {
      "cell_type": "code",
      "execution_count": null,
      "id": "85755ffb-ba9c-4208-ba04-4c2e08f29289",
      "metadata": {
        "colab": {
          "base_uri": "https://localhost:8080/",
          "height": 37
        },
        "id": "85755ffb-ba9c-4208-ba04-4c2e08f29289",
        "outputId": "a746bce5-0555-432b-bc3d-1c0d22f23229"
      },
      "outputs": [
        {
          "data": {
            "application/vnd.google.colaboratory.intrinsic+json": {
              "type": "string"
            },
            "text/plain": [
              "'81 has deterioration but mln . require cents U by'"
            ]
          },
          "execution_count": 27,
          "metadata": {},
          "output_type": "execute_result"
        }
      ],
      "source": [
        "generate_text(uni_grams, 1, (), 10)"
      ]
    },
    {
      "cell_type": "markdown",
      "id": "f8e97c88-d281-4b49-8834-a8353ac8437e",
      "metadata": {
        "id": "f8e97c88-d281-4b49-8834-a8353ac8437e"
      },
      "source": [
        "hmm, not very impressive. Let's move on to `bi-grams`."
      ]
    },
    {
      "cell_type": "code",
      "execution_count": null,
      "id": "d7cf38a1-2386-43a8-9e2d-98ed5d0e0731",
      "metadata": {
        "id": "d7cf38a1-2386-43a8-9e2d-98ed5d0e0731"
      },
      "outputs": [],
      "source": [
        "def calc_probs(grams):\n",
        "    # Let's transform the counts to probabilities\n",
        "    for context in grams:\n",
        "        context_count = float(sum(grams[context].values()))\n",
        "        for next_word in grams[context]:\n",
        "            grams[context][next_word] /= context_count"
      ]
    },
    {
      "cell_type": "code",
      "execution_count": null,
      "id": "afae1772-f6e7-418f-a16c-efc57624a945",
      "metadata": {
        "id": "afae1772-f6e7-418f-a16c-efc57624a945"
      },
      "outputs": [],
      "source": [
        "# Counting all bi-grams\n",
        "bi_grams = defaultdict(lambda: defaultdict(lambda: 0))\n",
        "for sentence in reuters.sents():\n",
        "    for w1, w2 in bigrams(sentence, pad_left=True, left_pad_symbol=\"<s>\", pad_right=True, right_pad_symbol=\"</s>\"):\n",
        "        bi_grams[(w1)][w2] += 1\n",
        "\n",
        "# Calculating probabilities\n",
        "calc_probs(bi_grams)"
      ]
    },
    {
      "cell_type": "code",
      "execution_count": null,
      "id": "8eee6728-2834-4d2f-ac45-c59950639cda",
      "metadata": {
        "colab": {
          "base_uri": "https://localhost:8080/",
          "height": 37
        },
        "id": "8eee6728-2834-4d2f-ac45-c59950639cda",
        "outputId": "5fec7663-8617-4d3c-d461-46f1e4728fa3"
      },
      "outputs": [
        {
          "data": {
            "application/vnd.google.colaboratory.intrinsic+json": {
              "type": "string"
            },
            "text/plain": [
              "'The typical salaried employees of 8 PCT IN 1987 is dumping'"
            ]
          },
          "execution_count": 32,
          "metadata": {},
          "output_type": "execute_result"
        }
      ],
      "source": [
        "generate_text(bi_grams, 2, ('The',), 10)"
      ]
    },
    {
      "cell_type": "markdown",
      "id": "d2877c89-4dd3-4202-aa5a-d84cdebe2fbe",
      "metadata": {
        "id": "d2877c89-4dd3-4202-aa5a-d84cdebe2fbe"
      },
      "source": [
        "Notice here we are passing previous word (context) and it's single word as we are using `bi-grams`.  Also notice that the generated sentence is coherent.\n",
        "Now, let's try with `tri-grams`."
      ]
    },
    {
      "cell_type": "code",
      "execution_count": null,
      "id": "ffc2c916-6f19-4a3b-ae84-ec819d21dc38",
      "metadata": {
        "id": "ffc2c916-6f19-4a3b-ae84-ec819d21dc38"
      },
      "outputs": [],
      "source": [
        "tri_grams = defaultdict(lambda: defaultdict(lambda: 0))\n",
        "\n",
        "for sentence in reuters.sents():\n",
        "    for w1, w2, w3 in trigrams(sentence, pad_left=True, left_pad_symbol=\"<s>\", pad_right=True, right_pad_symbol=\"</s>\"):\n",
        "        tri_grams[(w1, w2)][w3] += 1\n",
        "\n",
        "calc_probs(tri_grams)"
      ]
    },
    {
      "cell_type": "code",
      "execution_count": null,
      "id": "6bb9589d-1ebe-4f7b-ab5f-48625041099e",
      "metadata": {
        "colab": {
          "base_uri": "https://localhost:8080/",
          "height": 37
        },
        "id": "6bb9589d-1ebe-4f7b-ab5f-48625041099e",
        "outputId": "c8949e11-b565-495c-d60e-94e934cb1297"
      },
      "outputs": [
        {
          "data": {
            "application/vnd.google.colaboratory.intrinsic+json": {
              "type": "string"
            },
            "text/plain": [
              "'<s> The spokesman declined to be lower than the 20 dlrs per'"
            ]
          },
          "execution_count": 38,
          "metadata": {},
          "output_type": "execute_result"
        }
      ],
      "source": [
        "generate_text(tri_grams, 3, ('<s>', 'The'), 10)"
      ]
    },
    {
      "cell_type": "markdown",
      "id": "2811a085-748b-4fd3-8bff-8c90f408f52c",
      "metadata": {
        "id": "2811a085-748b-4fd3-8bff-8c90f408f52c"
      },
      "source": [
        "### Perplexity\n",
        "\n",
        "Now, we have understood language models and how to generate text with them. However, one important aspect of any ML model is how to evaluate them. For this task, we can ask does our language model prefer good sentences to bad ones? does our model assign a higher probability to real or frequently observed word than ungrammatical or rarely observed one? Other than that we also have automatic measure which is `Perplexity`. It's inverse probability of our corpus (or sentence we can also calculate it for sentence) normalized by no. of words in our corpus. \n",
        "\n",
        "$$\\sqrt[N]{ \\frac{1}{P(w_1 ... w_n)}}$$\n",
        "\n",
        "Notice here we have to calculate $P(w_1 ... w_n)$ which involve _Chain Rule of Probability_ e.g  $P(w_1 ... w_n) = P(w_1) \\times P(w_2|w_1) \\times P(w_3|w_1, w_2) ... $ and notice if one of these probabilities is zero then the whole $P(w_1 ... w_n)$ will become zero. To avoid this underflow, I will use alternate representation (formula) of perplexity involving _logs_ (read more [here](https://stats.stackexchange.com/a/143638/291743)).\n",
        "\n",
        "$$2^{-\\frac{1}{N} \\sum_{i=1}^{N} log_2 P(w_i) }$$\n",
        "\n",
        "As perplexity is inverse measure. Hence, lower Perplexity indicates better language model."
      ]
    },
    {
      "cell_type": "code",
      "execution_count": null,
      "id": "a5e3ad03-df27-4f5b-b055-19e469c4c096",
      "metadata": {
        "colab": {
          "base_uri": "https://localhost:8080/"
        },
        "id": "a5e3ad03-df27-4f5b-b055-19e469c4c096",
        "outputId": "ccb17bf3-83b4-4e65-b5d8-f8aaaac38324"
      },
      "outputs": [
        {
          "name": "stdout",
          "output_type": "stream",
          "text": [
            "Uni gram perplexity:  1077.8271341207844\n"
          ]
        }
      ],
      "source": [
        "N = 0\n",
        "summation = 0\n",
        "for word in reuters.words():\n",
        "    N += 1\n",
        "    summation += math.log(uni_grams[word], 2)\n",
        "\n",
        "print(\"Uni gram perplexity: \", pow(2, -summation * (1/N)))"
      ]
    },
    {
      "cell_type": "code",
      "execution_count": null,
      "id": "03fcc6d3-04cd-4173-ad84-ff5d1963c390",
      "metadata": {
        "colab": {
          "base_uri": "https://localhost:8080/"
        },
        "id": "03fcc6d3-04cd-4173-ad84-ff5d1963c390",
        "outputId": "610ded47-91d9-4f5c-c6e4-9428e1adc997"
      },
      "outputs": [
        {
          "name": "stdout",
          "output_type": "stream",
          "text": [
            "Bi gram perplexity:  40.65095064037762\n"
          ]
        }
      ],
      "source": [
        "N = 0\n",
        "summation = 0\n",
        "for sentence in reuters.sents():\n",
        "    N += len(sentence) + 2  # +2 for <s> and </s> \n",
        "    for w1, w2 in bigrams(sentence, pad_left=True, left_pad_symbol=\"<s>\", pad_right=True, right_pad_symbol=\"</s>\"): \n",
        "        summation += math.log(bi_grams[(w1)][w2], 2)\n",
        "print(\"Bi gram perplexity: \", pow(2, -summation * (1/N)))"
      ]
    },
    {
      "cell_type": "code",
      "execution_count": null,
      "id": "c4e795c3-59b8-4ef1-83ea-2fa805003173",
      "metadata": {
        "colab": {
          "base_uri": "https://localhost:8080/"
        },
        "id": "c4e795c3-59b8-4ef1-83ea-2fa805003173",
        "outputId": "e303bce7-41a6-4826-cddc-bc69d67be688"
      },
      "outputs": [
        {
          "name": "stdout",
          "output_type": "stream",
          "text": [
            "Tri gram perplexity:  5.9633012418563265\n"
          ]
        }
      ],
      "source": [
        "N = 0\n",
        "summation = 0\n",
        "for sentence in reuters.sents():\n",
        "    N += len(sentence) + 4  # +4 for <s> and </s> \n",
        "    for w1, w2, w3 in trigrams(sentence, pad_left=True, left_pad_symbol=\"<s>\", pad_right=True, right_pad_symbol=\"</s>\"): \n",
        "        summation += math.log(tri_grams[(w1, w2)][w3], 2)\n",
        "print(\"Tri gram perplexity: \", pow(2, -summation * (1/N)))"
      ]
    },
    {
      "cell_type": "markdown",
      "id": "Ftk8vt82P4Vx",
      "metadata": {
        "id": "Ftk8vt82P4Vx"
      },
      "source": [
        "Impressive, Let's try to generate a larger text with tri-grams!"
      ]
    },
    {
      "cell_type": "code",
      "execution_count": null,
      "id": "hmDAHYTgPT9h",
      "metadata": {
        "colab": {
          "base_uri": "https://localhost:8080/",
          "height": 54
        },
        "id": "hmDAHYTgPT9h",
        "outputId": "3ff1fa21-9ca2-448e-e56f-4074c7ed1076"
      },
      "outputs": [
        {
          "data": {
            "application/vnd.google.colaboratory.intrinsic+json": {
              "type": "string"
            },
            "text/plain": [
              "'<s> The IWCC release also said the contract price it will continue to furnish disk drives into PCs . </s> </s>'"
            ]
          },
          "execution_count": 49,
          "metadata": {},
          "output_type": "execute_result"
        }
      ],
      "source": [
        "generate_text(tri_grams, 3, ('<s>', 'The'), 50)"
      ]
    },
    {
      "cell_type": "markdown",
      "id": "95ab383a-e7a6-4665-966e-b7c5479aa315",
      "metadata": {
        "id": "95ab383a-e7a6-4665-966e-b7c5479aa315"
      },
      "source": [
        "So as I said earlier, that the more words we consider from the past the more better results we will get and one can see it here. \n",
        "Now, it's time to do the same task of Language Modeling with Deep Learning."
      ]
    },
    {
      "cell_type": "code",
      "execution_count": 7,
      "id": "48550100-fe86-43b8-9835-d647ae10e12f",
      "metadata": {
        "colab": {
          "base_uri": "https://localhost:8080/"
        },
        "id": "48550100-fe86-43b8-9835-d647ae10e12f",
        "outputId": "4092b9ed-9ad3-4323-e691-f1cbea591175"
      },
      "outputs": [
        {
          "output_type": "execute_result",
          "data": {
            "text/plain": [
              "device(type='cuda')"
            ]
          },
          "metadata": {},
          "execution_count": 7
        }
      ],
      "source": [
        "import torch\n",
        "import torch.nn as nn\n",
        "import torch.optim as optim\n",
        "from torch.utils.data import DataLoader\n",
        "from torch.nn.utils.rnn import pad_sequence\n",
        "from torch.utils.data import Dataset\n",
        "from torchtext.vocab import build_vocab_from_iterator\n",
        "import torch.nn.functional as F\n",
        "\n",
        "from tqdm import tqdm\n",
        "\n",
        "\n",
        "# Seeds for reproducible results\n",
        "SEED = 1234\n",
        "\n",
        "random.seed(SEED)\n",
        "torch.manual_seed(SEED)\n",
        "torch.cuda.manual_seed(SEED)\n",
        "torch.backends.cudnn.deterministic = True\n",
        "\n",
        "device = torch.device('cuda' if torch.cuda.is_available() else 'cpu')\n",
        "device"
      ]
    },
    {
      "cell_type": "code",
      "execution_count": 8,
      "id": "0b9e7a25-b52a-4773-84c2-d6afe51e931a",
      "metadata": {
        "id": "0b9e7a25-b52a-4773-84c2-d6afe51e931a"
      },
      "outputs": [],
      "source": [
        "hyp_params = {\n",
        "    \"batch_size\": 64,\n",
        "    \"embedding_dim\": 125,\n",
        "    \"hidden_dim\": 10,\n",
        "    \"sequence_len\": 10\n",
        "}"
      ]
    },
    {
      "cell_type": "markdown",
      "id": "3551ffc2-4b46-480d-bfd1-979a5e08a74d",
      "metadata": {
        "id": "3551ffc2-4b46-480d-bfd1-979a5e08a74d"
      },
      "source": [
        "We will use simple vanilla LSTM model. One important thing to understand here is how our input to LSTM model and output will look like. We will use _`window mechanism`_ which is simillar as `n-gram` approach. Let's consider an example, suppose we have a sentence \"The quick brown fox jumps over the lazy dog\" and we set the size of input and output _sentence window_ is `3` hence our first _input_ would be \"The quick brown\" and output would be \"quick brown fox\". Following the same approach, the second input would be \"quick brown fox\" and output would be \"brown fox jumps\". The next `LMDataset` class implemented this logic and it takes `sentence_window` as its input. If you look _`__getitem__`_ method of `LMDataset` class uses this `sentence_window` and _`slider`_ to create our input and output as I explained."
      ]
    },
    {
      "cell_type": "code",
      "execution_count": 9,
      "id": "cf68eabb-3e74-416d-af96-81afa54752a6",
      "metadata": {
        "id": "cf68eabb-3e74-416d-af96-81afa54752a6"
      },
      "outputs": [],
      "source": [
        "class LMDataset(Dataset):\n",
        "    def __init__(self, nltk_corpus, sentence_window = 50, train_vocab=None):\n",
        "        self.corpus = nltk.tokenize.wordpunct_tokenize(nltk_corpus)\n",
        "        self.vocab = train_vocab if train_vocab else self._build_vocab()\n",
        "        self.sentence_window = sentence_window\n",
        "\n",
        "        self.slider = -1\n",
        "\n",
        "    def __len__(self):\n",
        "        return math.floor(len(self.corpus)/self.sentence_window)\n",
        "\n",
        "    def __getitem__(self, item):\n",
        "        \"\"\"\n",
        "          Implementation of Sliding Window Mechanism\n",
        "        \"\"\"\n",
        "        self.slider += 1\n",
        "\n",
        "        src_text_tokens = self.corpus[self.slider * self.sentence_window : (self.slider + 1) * self.sentence_window]\n",
        "        trg_text_tokens = self.corpus[(self.slider * self.sentence_window) + 1 : ((self.slider + 1) * self.sentence_window) + 1]\n",
        "        return {\n",
        "            'src': self.vocab.lookup_indices(src_text_tokens),\n",
        "            'trg': self.vocab.lookup_indices(trg_text_tokens)\n",
        "        }\n",
        "\n",
        "    def _build_vocab(self):\n",
        "        vocab = build_vocab_from_iterator([self.corpus], specials=[\"<unk>\",\"<pad>\"])\n",
        "        vocab.set_default_index(vocab['<unk>'])\n",
        "\n",
        "        return vocab"
      ]
    },
    {
      "cell_type": "code",
      "execution_count": 10,
      "id": "e53b9d5e-bab1-413d-8e18-cdaf1e96bbea",
      "metadata": {
        "id": "e53b9d5e-bab1-413d-8e18-cdaf1e96bbea"
      },
      "outputs": [],
      "source": [
        "def collate_fn(batch, pad_value, device):\n",
        "    trgs = []\n",
        "    srcs = []\n",
        "    for row in batch:\n",
        "        srcs.append(torch.tensor(row[\"src\"], dtype=torch.long).to(device))\n",
        "        trgs.append(torch.tensor(row[\"trg\"]).to(device))\n",
        "\n",
        "    padded_srcs = pad_sequence(srcs, padding_value=pad_value)\n",
        "    padded_trgs = pad_sequence(trgs, padding_value=pad_value)\n",
        "    return {\"src\": padded_srcs, \"trg\": padded_trgs}\n",
        "\n",
        "\n",
        "train_lmds = LMDataset(reuters.raw(), hyp_params[\"sequence_len\"])\n",
        "\n",
        "pad_value = train_lmds.vocab['<pad>']\n",
        "\n",
        "train_dt = DataLoader(train_lmds, \n",
        "                      batch_size=hyp_params[\"batch_size\"],\n",
        "                      shuffle=True,\n",
        "                      collate_fn=lambda batch_size: collate_fn(batch_size, pad_value, device))"
      ]
    },
    {
      "cell_type": "code",
      "execution_count": 11,
      "id": "364171c6-2654-473a-abde-56cf17db5bf5",
      "metadata": {
        "id": "364171c6-2654-473a-abde-56cf17db5bf5"
      },
      "outputs": [],
      "source": [
        "class LM(nn.Module):\n",
        "    def __init__(self, vocab_size, embedding_dim, hidden_dim):\n",
        "        super().__init__()\n",
        "\n",
        "        # Embedding is just an lookup table of size \"vocab_size\"\n",
        "        # and each element has \"embedding_size\" dimension\n",
        "        self.embedding = nn.Embedding(vocab_size, embedding_dim)\n",
        "        self.LSTM = nn.LSTM(embedding_dim, hidden_dim)\n",
        "\n",
        "        self.fc = nn.Linear(hidden_dim, vocab_size)\n",
        "\n",
        "    def forward(self, x, hidden_state=None, cell_state=None):\n",
        "        # Shape --> (embedding) [Sequence_length, batch_size, embedding dims]\n",
        "        embedding = self.embedding(x)\n",
        "\n",
        "        # Shape --> (output) [Sequence_length, batch_size, vocab size]\n",
        "        # Shape --> (hs, cs) [num_layers, batch_size size, hidden_dim]\n",
        "        if hidden_state is not None:\n",
        "            outputs, (hidden_state, cell_state) = self.LSTM(embedding, (hidden_state, cell_state))\n",
        "        else:\n",
        "            outputs, (hidden_state, cell_state) = self.LSTM(embedding)\n",
        "\n",
        "        '''\n",
        "            Unlike Classification task, \n",
        "            here we are making use of encoder's outputs instead of hidden state.\n",
        "            Because output contains all the hidden states over time.\n",
        "        '''\n",
        "        # shape --> (linear_outputs) (10, 32, 41602) [sentence len, batch size, vocab size]\n",
        "        linear_outputs = self.fc(outputs)\n",
        "\n",
        "        return linear_outputs, hidden_state, cell_state"
      ]
    },
    {
      "cell_type": "code",
      "execution_count": 12,
      "id": "ac2f0fc7-581d-4591-bc24-e4a73de40e26",
      "metadata": {
        "id": "ac2f0fc7-581d-4591-bc24-e4a73de40e26"
      },
      "outputs": [],
      "source": [
        "model = LM(len(train_lmds.vocab), hyp_params[\"embedding_dim\"], hyp_params[\"hidden_dim\"]).to(device)\n",
        "optimizer = optim.Adam(model.parameters())\n",
        "criterion = nn.CrossEntropyLoss(ignore_index=pad_value).to(device)"
      ]
    },
    {
      "cell_type": "markdown",
      "id": "fac1695a-1f52-45c6-95ce-92fd90c8f44e",
      "metadata": {
        "id": "fac1695a-1f52-45c6-95ce-92fd90c8f44e"
      },
      "source": [
        "Let's train our deep learning model just for 10 epochs"
      ]
    },
    {
      "cell_type": "code",
      "execution_count": 13,
      "id": "4540af57-d158-474d-b7cc-8224756a4209",
      "metadata": {
        "id": "4540af57-d158-474d-b7cc-8224756a4209",
        "colab": {
          "base_uri": "https://localhost:8080/"
        },
        "outputId": "323450f6-eba5-4389-bd4d-64b8e71cbd2e"
      },
      "outputs": [
        {
          "output_type": "stream",
          "name": "stdout",
          "text": [
            "Epoch:  0\n"
          ]
        },
        {
          "output_type": "stream",
          "name": "stderr",
          "text": [
            "100%|██████████| 2689/2689 [01:18<00:00, 34.35it/s]\n"
          ]
        },
        {
          "output_type": "stream",
          "name": "stdout",
          "text": [
            "\tTrain loss: 7.298645340851046, Train perplexity: 1478.295983381574\n",
            "Epoch:  1\n"
          ]
        },
        {
          "output_type": "stream",
          "name": "stderr",
          "text": [
            "100%|██████████| 2689/2689 [01:18<00:00, 34.44it/s]\n"
          ]
        },
        {
          "output_type": "stream",
          "name": "stdout",
          "text": [
            "\tTrain loss: 6.574728711647099, Train perplexity: 716.7511517347598\n",
            "Epoch:  2\n"
          ]
        },
        {
          "output_type": "stream",
          "name": "stderr",
          "text": [
            "100%|██████████| 2689/2689 [01:17<00:00, 34.53it/s]\n"
          ]
        },
        {
          "output_type": "stream",
          "name": "stdout",
          "text": [
            "\tTrain loss: 6.1659478350348875, Train perplexity: 476.2523377236189\n",
            "Epoch:  3\n"
          ]
        },
        {
          "output_type": "stream",
          "name": "stderr",
          "text": [
            "100%|██████████| 2689/2689 [01:17<00:00, 34.59it/s]\n"
          ]
        },
        {
          "output_type": "stream",
          "name": "stdout",
          "text": [
            "\tTrain loss: 5.864083090959849, Train perplexity: 352.1591101567909\n",
            "Epoch:  4\n"
          ]
        },
        {
          "output_type": "stream",
          "name": "stderr",
          "text": [
            "100%|██████████| 2689/2689 [01:17<00:00, 34.53it/s]\n"
          ]
        },
        {
          "output_type": "stream",
          "name": "stdout",
          "text": [
            "\tTrain loss: 5.666092925463613, Train perplexity: 288.9035586896402\n",
            "Epoch:  5\n"
          ]
        },
        {
          "output_type": "stream",
          "name": "stderr",
          "text": [
            "100%|██████████| 2689/2689 [01:17<00:00, 34.55it/s]\n"
          ]
        },
        {
          "output_type": "stream",
          "name": "stdout",
          "text": [
            "\tTrain loss: 5.533757586778873, Train perplexity: 253.09314594936174\n",
            "Epoch:  6\n"
          ]
        },
        {
          "output_type": "stream",
          "name": "stderr",
          "text": [
            "100%|██████████| 2689/2689 [01:17<00:00, 34.65it/s]\n"
          ]
        },
        {
          "output_type": "stream",
          "name": "stdout",
          "text": [
            "\tTrain loss: 5.440987656842647, Train perplexity: 230.66989369124485\n",
            "Epoch:  7\n"
          ]
        },
        {
          "output_type": "stream",
          "name": "stderr",
          "text": [
            "100%|██████████| 2689/2689 [01:17<00:00, 34.65it/s]\n"
          ]
        },
        {
          "output_type": "stream",
          "name": "stdout",
          "text": [
            "\tTrain loss: 5.3682494181246065, Train perplexity: 214.4870616980014\n",
            "Epoch:  8\n"
          ]
        },
        {
          "output_type": "stream",
          "name": "stderr",
          "text": [
            "100%|██████████| 2689/2689 [01:17<00:00, 34.69it/s]\n"
          ]
        },
        {
          "output_type": "stream",
          "name": "stdout",
          "text": [
            "\tTrain loss: 5.309815444925009, Train perplexity: 202.31288707244363\n",
            "Epoch:  9\n"
          ]
        },
        {
          "output_type": "stream",
          "name": "stderr",
          "text": [
            "100%|██████████| 2689/2689 [01:18<00:00, 34.35it/s]"
          ]
        },
        {
          "output_type": "stream",
          "name": "stdout",
          "text": [
            "\tTrain loss: 5.261885887364465, Train perplexity: 192.84483221190916\n"
          ]
        },
        {
          "output_type": "stream",
          "name": "stderr",
          "text": [
            "\n"
          ]
        }
      ],
      "source": [
        "for epoch in range(10):\n",
        "    model.train()\n",
        "    epoch_loss = 0\n",
        "    print('Epoch: ', epoch)\n",
        "    for idx, batch in enumerate(tqdm(train_dt)):\n",
        "        src = batch[\"src\"]  # shape --> e.g. (10, 64) sentence len, batch size\n",
        "        trg = batch[\"trg\"]  # shape --> e.g. (10, 64) sentence len, batch size\n",
        "\n",
        "        trg = trg.view(-1)  # making them linear (1d) --> batch size * seq len\n",
        "\n",
        "        # Clear the accumulating gradients\n",
        "        optimizer.zero_grad()\n",
        "\n",
        "        # shape --> (10, 64, 41602) sentence len, batch size, vocab\n",
        "        output, _, _ = model(src)\n",
        " \n",
        "        # Calculate the loss value for every epoch\n",
        "        loss = criterion(output.view(-1, len(train_lmds.vocab)), trg)\n",
        "\n",
        "        # Calculate the gradients for weights & biases using back-propagation\n",
        "        loss.backward()\n",
        "\n",
        "        epoch_loss += loss.item()\n",
        "\n",
        "        # Clip the gradient value is it exceeds > 1 (mitigating gradient explosion)\n",
        "        torch.nn.utils.clip_grad_norm_(model.parameters(), max_norm=1)\n",
        "\n",
        "        # Update the weights values\n",
        "        optimizer.step()\n",
        "    print(f'\\tTrain loss: {epoch_loss/len(train_dt)}, Train perplexity: {math.exp(epoch_loss/len(train_dt))}')\n",
        "    train_lmds.slider = -1"
      ]
    },
    {
      "cell_type": "markdown",
      "id": "44f7497e-2609-47f0-992a-0c4600b24dd1",
      "metadata": {
        "id": "44f7497e-2609-47f0-992a-0c4600b24dd1"
      },
      "source": [
        "So, 10 epochs were not enough even for our _`train`_ dataset as you can see we have very high perplexity in fact 5x more than `bi-grams` models. However, I am sure training for more epochs and hyperparameter tunning will lead to better results.\n",
        "\n",
        "But how we just calculated `perplexity` using `Cross-entropy` loss 🤔? So, it turned out there is a relationship between `perplexity` using `Cross-entropy` loss. I am not going to explain here but you can check this [article](\n",
        "https://towardsdatascience.com/the-relationship-between-perplexity-and-entropy-in-nlp-f81888775ccc)."
      ]
    },
    {
      "cell_type": "markdown",
      "id": "d55187ae-4d3f-49ba-bd41-3c89b1624621",
      "metadata": {
        "id": "d55187ae-4d3f-49ba-bd41-3c89b1624621"
      },
      "source": [
        "### Text generation\n",
        "\n",
        "As Perplexity is very high so we can expect low quality generated text."
      ]
    },
    {
      "cell_type": "code",
      "execution_count": 26,
      "id": "1676f8e1-5084-4b6f-b646-4409f23e5a10",
      "metadata": {
        "colab": {
          "base_uri": "https://localhost:8080/"
        },
        "id": "1676f8e1-5084-4b6f-b646-4409f23e5a10",
        "outputId": "03faff58-ff06-42b5-f35c-ce655f8e51e0"
      },
      "outputs": [
        {
          "output_type": "stream",
          "name": "stdout",
          "text": [
            "The government programs and telecommunications Group Corp - CO & lt "
          ]
        }
      ],
      "source": [
        "inp = \"The\"\n",
        "\n",
        "hs = None\n",
        "cs = None\n",
        "print(inp, end=\" \")\n",
        "for i in range(10):\n",
        "    inp_ind = torch.tensor([train_lmds.vocab[inp]]).unsqueeze(1).to(device)\n",
        "    with torch.no_grad():\n",
        "        output, hs, cs = model(inp_ind, hs, cs)\n",
        "    word_weights = output.squeeze().exp().cpu()\n",
        "    word_idx = torch.multinomial(word_weights, 1)[0]\n",
        "    inp = train_lmds.vocab.lookup_token(word_idx)\n",
        "    print(inp, end=\" \")"
      ]
    },
    {
      "cell_type": "markdown",
      "id": "5664265b-6311-4662-a62e-3147f4105200",
      "metadata": {
        "id": "5664265b-6311-4662-a62e-3147f4105200"
      },
      "source": [
        "### Calculating perplexity of a single sentence\n",
        "\n",
        "We already have calculated `perplexity` of whole corpus but what if we want to calculate it for just one sentence ?"
      ]
    },
    {
      "cell_type": "code",
      "execution_count": 27,
      "id": "8222a107-ab11-4c9e-826b-71aa70ad6471",
      "metadata": {
        "colab": {
          "base_uri": "https://localhost:8080/"
        },
        "id": "8222a107-ab11-4c9e-826b-71aa70ad6471",
        "outputId": "46dede3f-710a-4451-b8e2-76ecd815c229"
      },
      "outputs": [
        {
          "output_type": "execute_result",
          "data": {
            "text/plain": [
              "295.8860186433557"
            ]
          },
          "metadata": {},
          "execution_count": 27
        }
      ],
      "source": [
        "# Thanks: https://github.com/flairNLP/flair/issues/498#issuecomment-465192107\n",
        "sentence = reuters.sents()[0]\n",
        "\n",
        "# This was the important step\n",
        "inp = sentence[:-1]\n",
        "trg = sentence[1:]\n",
        "\n",
        "trg_tensor = torch.tensor(train_lmds.vocab.lookup_indices(trg)).to(device)\n",
        "\n",
        "inp_tensor = torch.tensor(train_lmds.vocab.lookup_indices(inp)).unsqueeze(1).to(device)\n",
        "with torch.no_grad():\n",
        "    output, _, _ = model(inp_tensor)\n",
        "    loss = criterion(output.view(-1, len(train_lmds.vocab)), trg_tensor).item()\n",
        "\n",
        "math.exp(loss)"
      ]
    },
    {
      "cell_type": "markdown",
      "id": "fa29e012-bbae-4492-a763-83744feb266a",
      "metadata": {
        "id": "fa29e012-bbae-4492-a763-83744feb266a"
      },
      "source": [
        "### Calculating probability of a single sentence"
      ]
    },
    {
      "cell_type": "code",
      "execution_count": 32,
      "id": "5bab3b4f-bebf-4d09-b703-84c3110db753",
      "metadata": {
        "colab": {
          "base_uri": "https://localhost:8080/"
        },
        "id": "5bab3b4f-bebf-4d09-b703-84c3110db753",
        "outputId": "30add723-b722-42ce-b8ac-9a1d1c1d0307"
      },
      "outputs": [
        {
          "output_type": "stream",
          "name": "stdout",
          "text": [
            "0.047094117002194305\n"
          ]
        }
      ],
      "source": [
        "hs = None\n",
        "cs = None\n",
        "sentence = reuters.sents()[0]\n",
        "probs = 0\n",
        "\n",
        "for idx in range(len(sentence)):\n",
        "    inp_ind = torch.tensor(train_lmds.vocab.lookup_indices(sentence[:idx+1])).unsqueeze(1).to(device)\n",
        "\n",
        "    with torch.no_grad():\n",
        "        output, _, _ = model(inp_ind)\n",
        "    output = F.softmax(output.squeeze().detach(), dim=0)\n",
        "\n",
        "    if idx > 0:\n",
        "        output = output[idx]\n",
        "\n",
        "    probs += output[train_lmds.vocab[sentence[idx]]].item()\n",
        "\n",
        "print(probs/len(sentence))"
      ]
    },
    {
      "cell_type": "markdown",
      "id": "-fRmrl-EVpJ1",
      "metadata": {
        "id": "-fRmrl-EVpJ1"
      },
      "source": [
        "### Resources \n",
        "\n",
        "Stanford lecture about LMs: https://www.youtube.com/watch?v=iWea12EAu6U\n",
        "\n",
        "A tutorial about LM with n-grams and NLTK: https://nlpforhackers.io/language-models/\n",
        "\n",
        "About Perplexity: https://towardsdatascience.com/perplexity-in-language-models-87a196019a94"
      ]
    }
  ],
  "metadata": {
    "accelerator": "GPU",
    "colab": {
      "collapsed_sections": [],
      "name": "LM.ipynb",
      "provenance": []
    },
    "kernelspec": {
      "display_name": "Python 3 (ipykernel)",
      "language": "python",
      "name": "python3"
    },
    "language_info": {
      "codemirror_mode": {
        "name": "ipython",
        "version": 3
      },
      "file_extension": ".py",
      "mimetype": "text/x-python",
      "name": "python",
      "nbconvert_exporter": "python",
      "pygments_lexer": "ipython3",
      "version": "3.9.5"
    }
  },
  "nbformat": 4,
  "nbformat_minor": 5
}